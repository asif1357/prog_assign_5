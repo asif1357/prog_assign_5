{
 "cells": [
  {
   "cell_type": "code",
   "execution_count": 1,
   "id": "ec8f2598",
   "metadata": {},
   "outputs": [
    {
     "name": "stdout",
     "output_type": "stream",
     "text": [
      "enter the first no.: 5\n",
      "enter the second no.: 6\n",
      "lcm is :  30\n"
     ]
    }
   ],
   "source": [
    "#prog_1\n",
    "num1=int(input(\"enter the first no.: \"))\n",
    "num2=int(input(\"enter the second no.: \"))\n",
    "if num1>num2:\n",
    "    bigger=num1\n",
    "else:\n",
    "    bigger=num2\n",
    "temp=bigger\n",
    "while True:\n",
    "    if (bigger%num1==0) and (bigger%num2==0):\n",
    "        print(\"lcm is : \",bigger)\n",
    "        break\n",
    "    else:\n",
    "        bigger=bigger+temp\n"
   ]
  },
  {
   "cell_type": "code",
   "execution_count": 4,
   "id": "8842c415",
   "metadata": {},
   "outputs": [
    {
     "name": "stdout",
     "output_type": "stream",
     "text": [
      "enter the first no.: 14\n",
      "enter the second no.: 84\n",
      "hcf of given numbers is 14\n"
     ]
    }
   ],
   "source": [
    "#prog_2\n",
    "num1=int(input(\"enter the first no.: \"))\n",
    "num2=int(input(\"enter the second no.: \"))\n",
    "if num1>num2:\n",
    "    min=num1\n",
    "else:\n",
    "    min=num2\n",
    "    \n",
    "for i in range(1,min+1):\n",
    "    if num1%i==0 and num2%i==0:\n",
    "        hcf=i\n",
    "print(f\"hcf of given numbers is {hcf}\")\n",
    "    \n",
    "\n"
   ]
  },
  {
   "cell_type": "code",
   "execution_count": 6,
   "id": "55575a95",
   "metadata": {},
   "outputs": [
    {
     "name": "stdout",
     "output_type": "stream",
     "text": [
      "enter a number44\n",
      "equivalent binary is  0b101100\n",
      "equivalent octal is  0o54\n",
      "equivalent hexadecimal is  0x2c\n"
     ]
    }
   ],
   "source": [
    "#prog_3 \n",
    "desi=int(input(\"enter a number\"))\n",
    "print(\"equivalent binary is \",bin(desi))\n",
    "print(\"equivalent octal is \",oct(desi))\n",
    "print(\"equivalent hexadecimal is \",hex(desi))"
   ]
  },
  {
   "cell_type": "code",
   "execution_count": 8,
   "id": "621c563e",
   "metadata": {},
   "outputs": [
    {
     "name": "stdout",
     "output_type": "stream",
     "text": [
      "enter some character : a\n",
      "equivalent ascci value character is :  97\n"
     ]
    }
   ],
   "source": [
    "#prog_4\n",
    "char=input(\"enter some character : \")\n",
    "print(\"equivalent ascci value character is : \",ord(char))\n"
   ]
  },
  {
   "cell_type": "code",
   "execution_count": 1,
   "id": "2036881c",
   "metadata": {},
   "outputs": [
    {
     "name": "stdout",
     "output_type": "stream",
     "text": [
      "enter first no.\n",
      "None45\n",
      "enter second no,\n",
      "None67\n",
      "1.Add 2.Sub 3.Mul 4.Divide\n",
      "enter opration\n",
      "None1\n",
      "Addition is  112\n"
     ]
    }
   ],
   "source": [
    "#prog_5\n",
    "a1=int(input(print(\"enter first no.\")))\n",
    "b1=int(input(print(\"enter second no,\")))\n",
    "print(\"1.Add 2.Sub 3.Mul 4.Divide\")\n",
    "opt=int(input(print(\"enter opration\")))\n",
    "if opt==1:                                                                                                       \n",
    "    print(\"Addition is \",a1+b1) \n",
    "elif opt==2:\n",
    "    print(\"subtraction is \",a1-b1)\n",
    "elif opt==3:\n",
    "    print(\"multiplication is \",a1*b1)\n",
    "elif opt==4:\n",
    "    print(\"division is \",a1/b1)\n",
    "else :\n",
    "    print(\"invalid choise\")"
   ]
  },
  {
   "cell_type": "code",
   "execution_count": null,
   "id": "6e7f72b4",
   "metadata": {},
   "outputs": [],
   "source": []
  }
 ],
 "metadata": {
  "kernelspec": {
   "display_name": "Python 3 (ipykernel)",
   "language": "python",
   "name": "python3"
  },
  "language_info": {
   "codemirror_mode": {
    "name": "ipython",
    "version": 3
   },
   "file_extension": ".py",
   "mimetype": "text/x-python",
   "name": "python",
   "nbconvert_exporter": "python",
   "pygments_lexer": "ipython3",
   "version": "3.9.12"
  }
 },
 "nbformat": 4,
 "nbformat_minor": 5
}
